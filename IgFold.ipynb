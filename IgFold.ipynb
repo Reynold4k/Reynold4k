{
  "cells": [
    {
      "cell_type": "markdown",
      "metadata": {
        "id": "5AEsv1z5KXXA"
      },
      "source": [
        "# **IgFold**: Fast, accurate antibody structure prediction\n",
        "\n",
        "Official notebook for [IgFold](https://www.biorxiv.org/content/10.1101/2022.04.20.488972): Fast, accurate antibody structure prediction from deep learning on massive set of natural antibodies.  The code, data, and weights for this work are made available for non-commercial use. For commercial inquiries, please contact `jruffolo[at]jhu.edu`."
      ]
    },
    {
      "cell_type": "code",
      "execution_count": 2,
      "metadata": {
        "cellView": "form",
        "id": "0PsLNGK57LDq"
      },
      "outputs": [],
      "source": [
        "#@title Input antibody Fv sequences then press `Runtime` -> `Run all`\n",
        "\n",
        "import os\n",
        "import sys\n",
        "\n",
        "python_version = f\"{sys.version_info.major}.{sys.version_info.minor}\"\n",
        "\n",
        "name = \"my_antibody\" #@param {type:\"string\"}\n",
        "pred_dir = name\n",
        "os.makedirs(pred_dir, exist_ok=True)\n",
        "\n",
        "#@markdown Enter antibody sequences for structure prediction. To predict a nanobody structure (or an individual heavy or light chain), simply provide one sequence.\n",
        "heavy_sequence = \"EVQLVQSGPEVKKPGTSVKVSCKASGFTFMSSAVQWVRQARGQRLEWIGWIVIGSGNTNYAQKFQERVTITRDMSTSTAYMELSSLRSEDTAVYYCAAPYCSSISCNDGFDIWGQGTMVTVS\" #@param {type:\"string\"}\n",
        "light_sequence = \"DVVMTQTPFSLPVSLGDQASISCRSSQSLVHSNGNTYLHWYLQKPGQSPKLLIYKVSNRFSGVPDRFSGSGSGTDFTLKISRVEAEDLGVYFCSQSTHVPYTFGGGTKLEIK\" #@param {type:\"string\"}\n",
        "\n",
        "sequences = {}\n",
        "if len(heavy_sequence) > 0:\n",
        "    sequences[\"H\"] = heavy_sequence\n",
        "if len(light_sequence) > 0:\n",
        "    sequences[\"L\"] = light_sequence\n",
        "\n",
        "#@markdown Perform structural refinement with OpenMM\n",
        "do_refine = True #@param {type:\"boolean\"}\n",
        "#@markdown Renumber predicted antibody structure (Chothia) with AbNumber\n",
        "do_renum = True #@param {type:\"boolean\"}\n",
        "#@markdown Use only a single model for predictions (instead of model ensemble)\n",
        "single_model = False #@param {type:\"boolean\"}"
      ]
    },
    {
      "cell_type": "code",
      "execution_count": 5,
      "metadata": {
        "id": "LsJNdVE87Go2"
      },
      "outputs": [],
      "source": [
        "#@title Install dependencies\n",
        "\n",
        "PYTHON_VERSION = python_version\n",
        "\n",
        "if not os.path.isfile(\"CONDA_READY\"):\n",
        "  print(\"installing conda...\")\n",
        "  os.system(\"wget -qnc https://github.com/jaimergp/miniforge/releases/latest/download/Mambaforge-colab-Linux-x86_64.sh\")\n",
        "  os.system(\"bash Mambaforge-colab-Linux-x86_64.sh -bfp /usr/local\")\n",
        "  os.system(\"mamba config --set auto_update_conda false\")\n",
        "  os.system(\"touch CONDA_READY\")\n",
        "\n",
        "if not os.path.isfile(\"CODE_READY\"):\n",
        "  print(\"installing igfold...\")\n",
        "  torch_string = \"torch==1.11.0+cu113 torchvision==0.12.0+cu113 -f https://download.pytorch.org/whl/torch_stable.html\"\n",
        "  os.system(f\"pip3 install {torch_string}\")\n",
        "  os.system(f\"pip install 'igfold>=0.3.0' {torch_string}\")\n",
        "  os.system(\"pip install -q --no-warn-conflicts 'py3Dmol>=2.0.1' matplotlib seaborn\")\n",
        "  os.system(\"touch CODE_READY\")\n",
        "\n",
        "if do_refine and not os.path.isfile(\"AMBER_READY\"):\n",
        "  print(\"installing amber...\")\n",
        "  os.system(f\"mamba install -y -q -c conda-forge openmm=7.7.0 python='{PYTHON_VERSION}' pdbfixer 2>&1 1>/dev/null\")\n",
        "  os.system(\"touch AMBER_READY\")\n",
        "\n",
        "if do_renum and not os.path.isfile(\"ABNUMBER_READY\"):\n",
        "  print(\"installing abnumber...\")\n",
        "  os.system(f\"mamba install -y -q -c bioconda abnumber python='{PYTHON_VERSION}' 2>&1 1>/dev/null\")\n",
        "  os.system(\"pip install pandas --force-reinstall\")\n",
        "  os.system(\"touch ABNUMBER_READY\")"
      ]
    },
    {
      "cell_type": "code",
      "source": [
        "!wget -c https://repo.anaconda.com/miniconda/Miniconda3-latest-Linux-x86_64.sh -O miniconda.sh\n",
        "!bash miniconda.sh -b -p /usr/local/miniconda\n",
        "!rm miniconda.sh\n",
        "import sys\n",
        "sys.path.append('/usr/local/miniconda/bin')\n",
        "!echo \"export PATH=/usr/local/miniconda/bin:$PATH\" >> ~/.bashrc\n",
        "!source ~/.bashrc\n",
        "!which python\n",
        "!which conda\n"
      ],
      "metadata": {
        "id": "VEOLhq5pbwdm",
        "outputId": "abc19e53-a724-4f51-e5db-b35ac0901051",
        "colab": {
          "base_uri": "https://localhost:8080/"
        }
      },
      "execution_count": 7,
      "outputs": [
        {
          "output_type": "stream",
          "name": "stdout",
          "text": [
            "--2025-02-25 00:08:38--  https://repo.anaconda.com/miniconda/Miniconda3-latest-Linux-x86_64.sh\n",
            "Resolving repo.anaconda.com (repo.anaconda.com)... 104.16.191.158, 104.16.32.241, 2606:4700::6810:20f1, ...\n",
            "Connecting to repo.anaconda.com (repo.anaconda.com)|104.16.191.158|:443... connected.\n",
            "HTTP request sent, awaiting response... 200 OK\n",
            "Length: 154615621 (147M) [application/octet-stream]\n",
            "Saving to: ‘miniconda.sh’\n",
            "\n",
            "miniconda.sh        100%[===================>] 147.45M   200MB/s    in 0.7s    \n",
            "\n",
            "2025-02-25 00:08:39 (200 MB/s) - ‘miniconda.sh’ saved [154615621/154615621]\n",
            "\n",
            "PREFIX=/usr/local/miniconda\n",
            "Unpacking payload ...\n",
            "\n",
            "Installing base environment...\n",
            "\n",
            "Preparing transaction: ...working... done\n",
            "Executing transaction: ...working... done\n",
            "installation finished.\n",
            "WARNING:\n",
            "    You currently have a PYTHONPATH environment variable set. This may cause\n",
            "    unexpected behavior when running the Python interpreter in Miniconda3.\n",
            "    For best results, please verify that your PYTHONPATH only points to\n",
            "    directories of packages that are compatible with the Python interpreter\n",
            "    in Miniconda3: /usr/local/miniconda\n"
          ]
        }
      ]
    },
    {
      "cell_type": "code",
      "source": [
        "!pip install igfold\n",
        "!pip install numpy==1.23\n",
        "!conda install -c conda-forge openmm==7.7.0 pdbfixer\n",
        "!conda install -c bioconda abnumber"
      ],
      "metadata": {
        "id": "1O-moQsuZBxE",
        "outputId": "76033bf0-7481-4733-d302-f1dadb83c3f6",
        "colab": {
          "base_uri": "https://localhost:8080/"
        }
      },
      "execution_count": 10,
      "outputs": [
        {
          "output_type": "stream",
          "name": "stdout",
          "text": [
            "Requirement already satisfied: igfold in /usr/local/lib/python3.11/dist-packages (0.4.0)\n",
            "Requirement already satisfied: antiberty>=0.1.1 in /usr/local/lib/python3.11/dist-packages (from igfold) (0.1.3)\n",
            "Requirement already satisfied: biopython>=1.79 in /usr/local/lib/python3.11/dist-packages (from igfold) (1.85)\n",
            "Requirement already satisfied: einops>=0.3.0 in /usr/local/lib/python3.11/dist-packages (from igfold) (0.8.1)\n",
            "Requirement already satisfied: pytorch-lightning<1.9.0,>=1.5.10 in /usr/local/lib/python3.11/dist-packages (from igfold) (1.8.6)\n",
            "Requirement already satisfied: torch>=1.7.1 in /usr/local/lib/python3.11/dist-packages (from igfold) (2.5.1+cu124)\n",
            "Requirement already satisfied: transformers>=4.5.1 in /usr/local/lib/python3.11/dist-packages (from antiberty>=0.1.1->igfold) (4.48.3)\n",
            "Requirement already satisfied: numpy in /usr/local/lib/python3.11/dist-packages (from biopython>=1.79->igfold) (1.23.0)\n",
            "Requirement already satisfied: tqdm>=4.57.0 in /usr/local/lib/python3.11/dist-packages (from pytorch-lightning<1.9.0,>=1.5.10->igfold) (4.67.1)\n",
            "Requirement already satisfied: PyYAML>=5.4 in /usr/local/lib/python3.11/dist-packages (from pytorch-lightning<1.9.0,>=1.5.10->igfold) (6.0.2)\n",
            "Requirement already satisfied: fsspec>2021.06.0 in /usr/local/lib/python3.11/dist-packages (from fsspec[http]>2021.06.0->pytorch-lightning<1.9.0,>=1.5.10->igfold) (2024.10.0)\n",
            "Requirement already satisfied: tensorboardX>=2.2 in /usr/local/lib/python3.11/dist-packages (from pytorch-lightning<1.9.0,>=1.5.10->igfold) (2.6.2.2)\n",
            "Requirement already satisfied: torchmetrics>=0.7.0 in /usr/local/lib/python3.11/dist-packages (from pytorch-lightning<1.9.0,>=1.5.10->igfold) (1.6.1)\n",
            "Requirement already satisfied: packaging>=17.0 in /usr/local/lib/python3.11/dist-packages (from pytorch-lightning<1.9.0,>=1.5.10->igfold) (24.2)\n",
            "Requirement already satisfied: typing-extensions>=4.0.0 in /usr/local/lib/python3.11/dist-packages (from pytorch-lightning<1.9.0,>=1.5.10->igfold) (4.12.2)\n",
            "Requirement already satisfied: lightning-utilities!=0.4.0,>=0.3.0 in /usr/local/lib/python3.11/dist-packages (from pytorch-lightning<1.9.0,>=1.5.10->igfold) (0.12.0)\n",
            "Requirement already satisfied: filelock in /usr/local/lib/python3.11/dist-packages (from torch>=1.7.1->igfold) (3.17.0)\n",
            "Requirement already satisfied: networkx in /usr/local/lib/python3.11/dist-packages (from torch>=1.7.1->igfold) (3.4.2)\n",
            "Requirement already satisfied: jinja2 in /usr/local/lib/python3.11/dist-packages (from torch>=1.7.1->igfold) (3.1.5)\n",
            "Requirement already satisfied: nvidia-cuda-nvrtc-cu12==12.4.127 in /usr/local/lib/python3.11/dist-packages (from torch>=1.7.1->igfold) (12.4.127)\n",
            "Requirement already satisfied: nvidia-cuda-runtime-cu12==12.4.127 in /usr/local/lib/python3.11/dist-packages (from torch>=1.7.1->igfold) (12.4.127)\n",
            "Requirement already satisfied: nvidia-cuda-cupti-cu12==12.4.127 in /usr/local/lib/python3.11/dist-packages (from torch>=1.7.1->igfold) (12.4.127)\n",
            "Requirement already satisfied: nvidia-cudnn-cu12==9.1.0.70 in /usr/local/lib/python3.11/dist-packages (from torch>=1.7.1->igfold) (9.1.0.70)\n",
            "Requirement already satisfied: nvidia-cublas-cu12==12.4.5.8 in /usr/local/lib/python3.11/dist-packages (from torch>=1.7.1->igfold) (12.4.5.8)\n",
            "Requirement already satisfied: nvidia-cufft-cu12==11.2.1.3 in /usr/local/lib/python3.11/dist-packages (from torch>=1.7.1->igfold) (11.2.1.3)\n",
            "Requirement already satisfied: nvidia-curand-cu12==10.3.5.147 in /usr/local/lib/python3.11/dist-packages (from torch>=1.7.1->igfold) (10.3.5.147)\n",
            "Requirement already satisfied: nvidia-cusolver-cu12==11.6.1.9 in /usr/local/lib/python3.11/dist-packages (from torch>=1.7.1->igfold) (11.6.1.9)\n",
            "Requirement already satisfied: nvidia-cusparse-cu12==12.3.1.170 in /usr/local/lib/python3.11/dist-packages (from torch>=1.7.1->igfold) (12.3.1.170)\n",
            "Requirement already satisfied: nvidia-nccl-cu12==2.21.5 in /usr/local/lib/python3.11/dist-packages (from torch>=1.7.1->igfold) (2.21.5)\n",
            "Requirement already satisfied: nvidia-nvtx-cu12==12.4.127 in /usr/local/lib/python3.11/dist-packages (from torch>=1.7.1->igfold) (12.4.127)\n",
            "Requirement already satisfied: nvidia-nvjitlink-cu12==12.4.127 in /usr/local/lib/python3.11/dist-packages (from torch>=1.7.1->igfold) (12.4.127)\n",
            "Requirement already satisfied: triton==3.1.0 in /usr/local/lib/python3.11/dist-packages (from torch>=1.7.1->igfold) (3.1.0)\n",
            "Requirement already satisfied: sympy==1.13.1 in /usr/local/lib/python3.11/dist-packages (from torch>=1.7.1->igfold) (1.13.1)\n",
            "Requirement already satisfied: mpmath<1.4,>=1.1.0 in /usr/local/lib/python3.11/dist-packages (from sympy==1.13.1->torch>=1.7.1->igfold) (1.3.0)\n",
            "Requirement already satisfied: aiohttp!=4.0.0a0,!=4.0.0a1 in /usr/local/lib/python3.11/dist-packages (from fsspec[http]>2021.06.0->pytorch-lightning<1.9.0,>=1.5.10->igfold) (3.11.12)\n",
            "Requirement already satisfied: setuptools in /usr/local/lib/python3.11/dist-packages (from lightning-utilities!=0.4.0,>=0.3.0->pytorch-lightning<1.9.0,>=1.5.10->igfold) (75.1.0)\n",
            "Requirement already satisfied: protobuf>=3.20 in /usr/local/lib/python3.11/dist-packages (from tensorboardX>=2.2->pytorch-lightning<1.9.0,>=1.5.10->igfold) (4.25.6)\n",
            "Requirement already satisfied: huggingface-hub<1.0,>=0.24.0 in /usr/local/lib/python3.11/dist-packages (from transformers>=4.5.1->antiberty>=0.1.1->igfold) (0.28.1)\n",
            "Requirement already satisfied: regex!=2019.12.17 in /usr/local/lib/python3.11/dist-packages (from transformers>=4.5.1->antiberty>=0.1.1->igfold) (2024.11.6)\n",
            "Requirement already satisfied: requests in /usr/local/lib/python3.11/dist-packages (from transformers>=4.5.1->antiberty>=0.1.1->igfold) (2.32.3)\n",
            "Requirement already satisfied: tokenizers<0.22,>=0.21 in /usr/local/lib/python3.11/dist-packages (from transformers>=4.5.1->antiberty>=0.1.1->igfold) (0.21.0)\n",
            "Requirement already satisfied: safetensors>=0.4.1 in /usr/local/lib/python3.11/dist-packages (from transformers>=4.5.1->antiberty>=0.1.1->igfold) (0.5.2)\n",
            "Requirement already satisfied: MarkupSafe>=2.0 in /usr/local/lib/python3.11/dist-packages (from jinja2->torch>=1.7.1->igfold) (3.0.2)\n",
            "Requirement already satisfied: aiohappyeyeballs>=2.3.0 in /usr/local/lib/python3.11/dist-packages (from aiohttp!=4.0.0a0,!=4.0.0a1->fsspec[http]>2021.06.0->pytorch-lightning<1.9.0,>=1.5.10->igfold) (2.4.6)\n",
            "Requirement already satisfied: aiosignal>=1.1.2 in /usr/local/lib/python3.11/dist-packages (from aiohttp!=4.0.0a0,!=4.0.0a1->fsspec[http]>2021.06.0->pytorch-lightning<1.9.0,>=1.5.10->igfold) (1.3.2)\n",
            "Requirement already satisfied: attrs>=17.3.0 in /usr/local/lib/python3.11/dist-packages (from aiohttp!=4.0.0a0,!=4.0.0a1->fsspec[http]>2021.06.0->pytorch-lightning<1.9.0,>=1.5.10->igfold) (25.1.0)\n",
            "Requirement already satisfied: frozenlist>=1.1.1 in /usr/local/lib/python3.11/dist-packages (from aiohttp!=4.0.0a0,!=4.0.0a1->fsspec[http]>2021.06.0->pytorch-lightning<1.9.0,>=1.5.10->igfold) (1.5.0)\n",
            "Requirement already satisfied: multidict<7.0,>=4.5 in /usr/local/lib/python3.11/dist-packages (from aiohttp!=4.0.0a0,!=4.0.0a1->fsspec[http]>2021.06.0->pytorch-lightning<1.9.0,>=1.5.10->igfold) (6.1.0)\n",
            "Requirement already satisfied: propcache>=0.2.0 in /usr/local/lib/python3.11/dist-packages (from aiohttp!=4.0.0a0,!=4.0.0a1->fsspec[http]>2021.06.0->pytorch-lightning<1.9.0,>=1.5.10->igfold) (0.2.1)\n",
            "Requirement already satisfied: yarl<2.0,>=1.17.0 in /usr/local/lib/python3.11/dist-packages (from aiohttp!=4.0.0a0,!=4.0.0a1->fsspec[http]>2021.06.0->pytorch-lightning<1.9.0,>=1.5.10->igfold) (1.18.3)\n",
            "Requirement already satisfied: charset-normalizer<4,>=2 in /usr/local/lib/python3.11/dist-packages (from requests->transformers>=4.5.1->antiberty>=0.1.1->igfold) (3.4.1)\n",
            "Requirement already satisfied: idna<4,>=2.5 in /usr/local/lib/python3.11/dist-packages (from requests->transformers>=4.5.1->antiberty>=0.1.1->igfold) (3.10)\n",
            "Requirement already satisfied: urllib3<3,>=1.21.1 in /usr/local/lib/python3.11/dist-packages (from requests->transformers>=4.5.1->antiberty>=0.1.1->igfold) (2.3.0)\n",
            "Requirement already satisfied: certifi>=2017.4.17 in /usr/local/lib/python3.11/dist-packages (from requests->transformers>=4.5.1->antiberty>=0.1.1->igfold) (2025.1.31)\n",
            "Requirement already satisfied: numpy==1.23 in /usr/local/lib/python3.11/dist-packages (1.23.0)\n",
            "/bin/bash: line 1: conda: command not found\n",
            "/bin/bash: line 1: conda: command not found\n"
          ]
        }
      ]
    },
    {
      "cell_type": "code",
      "execution_count": 3,
      "metadata": {
        "id": "a2a3BsiE9AXI",
        "outputId": "1d95f71e-4613-4f08-e552-e4a3994d76dd",
        "colab": {
          "base_uri": "https://localhost:8080/",
          "height": 907
        }
      },
      "outputs": [
        {
          "output_type": "stream",
          "name": "stderr",
          "text": [
            "/usr/local/lib/python3.11/dist-packages/Bio/pairwise2.py:278: BiopythonDeprecationWarning: Bio.pairwise2 has been deprecated, and we intend to remove it in a future release of Biopython. As an alternative, please consider using Bio.Align.PairwiseAligner as a replacement, and contact the Biopython developers if you still need the Bio.pairwise2 module.\n",
            "  warnings.warn(\n"
          ]
        },
        {
          "output_type": "stream",
          "name": "stdout",
          "text": [
            "\n",
            "    The code, data, and weights for this work are made available for non-commercial use \n",
            "    (including at commercial entities) under the terms of the JHU Academic Software License \n",
            "    Agreement. For commercial inquiries, please contact awichma2[at]jhu.edu.\n",
            "    License: https://github.com/Graylab/IgFold/blob/main/LICENSE.md\n",
            "    \n",
            "Loading 4 IgFold models...\n",
            "Using device: cpu\n",
            "Loading /usr/local/lib/python3.11/dist-packages/igfold/trained_models/IgFold/igfold_1.ckpt...\n"
          ]
        },
        {
          "output_type": "stream",
          "name": "stderr",
          "text": [
            "/usr/local/lib/python3.11/dist-packages/lightning_lite/utilities/cloud_io.py:48: FutureWarning: You are using `torch.load` with `weights_only=False` (the current default value), which uses the default pickle module implicitly. It is possible to construct malicious pickle data which will execute arbitrary code during unpickling (See https://github.com/pytorch/pytorch/blob/main/SECURITY.md#untrusted-models for more details). In a future release, the default value for `weights_only` will be flipped to `True`. This limits the functions that could be executed during unpickling. Arbitrary objects will no longer be allowed to be loaded via this mode unless they are explicitly allowlisted by the user via `torch.serialization.add_safe_globals`. We recommend you start setting `weights_only=True` for any use case where you don't have full control of the loaded file. Please open an issue on GitHub for any issues related to this experimental feature.\n",
            "  return torch.load(f, map_location=map_location)\n"
          ]
        },
        {
          "output_type": "stream",
          "name": "stdout",
          "text": [
            "Loading /usr/local/lib/python3.11/dist-packages/igfold/trained_models/IgFold/igfold_2.ckpt...\n",
            "Loading /usr/local/lib/python3.11/dist-packages/igfold/trained_models/IgFold/igfold_3.ckpt...\n",
            "Loading /usr/local/lib/python3.11/dist-packages/igfold/trained_models/IgFold/igfold_5.ckpt...\n",
            "Successfully loaded 4 IgFold models.\n",
            "Loaded AntiBERTy model.\n"
          ]
        },
        {
          "output_type": "stream",
          "name": "stderr",
          "text": [
            "BertSdpaSelfAttention is used but `torch.nn.functional.scaled_dot_product_attention` does not support non-absolute `position_embedding_type` or `output_attentions=True` or `head_mask`. Falling back to the manual attention implementation, but specifying the manual implementation will be required from Transformers version v5.0.0 onwards. This warning can be removed using the argument `attn_implementation=\"eager\"` when loading the model.\n",
            "/usr/local/lib/python3.11/dist-packages/igfold/utils/coordinates.py:18: UserWarning: Using torch.cross without specifying the dim arg is deprecated.\n",
            "Please either pass the dim explicitly or simply use torch.linalg.cross.\n",
            "The default value of dim will change to agree with that of linalg.cross in a future release. (Triggered internally at ../aten/src/ATen/native/Cross.cpp:62.)\n",
            "  n_vec = (b_coord - a_coord).expand(bc_vec.shape).cross(bc_vec)\n",
            "/usr/local/lib/python3.11/dist-packages/igfold/model/components/IPABlock.py:160: FutureWarning: `torch.cuda.amp.autocast(args...)` is deprecated. Please use `torch.amp.autocast('cuda', args...)` instead.\n",
            "  with disable_tf32(), autocast(enabled = False):\n"
          ]
        },
        {
          "output_type": "error",
          "ename": "NameError",
          "evalue": "name 'exit' is not defined",
          "traceback": [
            "\u001b[0;31m---------------------------------------------------------------------------\u001b[0m",
            "\u001b[0;31mModuleNotFoundError\u001b[0m                       Traceback (most recent call last)",
            "\u001b[0;32m/usr/local/lib/python3.11/dist-packages/igfold/utils/folding.py\u001b[0m in \u001b[0;36mprocess_prediction\u001b[0;34m(model_out, pdb_file, fasta_file, skip_pdb, do_refine, use_openmm, do_renum)\u001b[0m\n\u001b[1;32m    119\u001b[0m             \u001b[0;32mtry\u001b[0m\u001b[0;34m:\u001b[0m\u001b[0;34m\u001b[0m\u001b[0;34m\u001b[0m\u001b[0m\n\u001b[0;32m--> 120\u001b[0;31m                 \u001b[0;32mfrom\u001b[0m \u001b[0migfold\u001b[0m\u001b[0;34m.\u001b[0m\u001b[0mrefine\u001b[0m\u001b[0;34m.\u001b[0m\u001b[0mopenmm_ref\u001b[0m \u001b[0;32mimport\u001b[0m \u001b[0mrefine\u001b[0m\u001b[0;34m\u001b[0m\u001b[0;34m\u001b[0m\u001b[0m\n\u001b[0m\u001b[1;32m    121\u001b[0m                 \u001b[0mrefine_input\u001b[0m \u001b[0;34m=\u001b[0m \u001b[0;34m[\u001b[0m\u001b[0mpdb_file\u001b[0m\u001b[0;34m]\u001b[0m\u001b[0;34m\u001b[0m\u001b[0;34m\u001b[0m\u001b[0m\n",
            "\u001b[0;32m/usr/local/lib/python3.11/dist-packages/igfold/refine/openmm_ref.py\u001b[0m in \u001b[0;36m<module>\u001b[0;34m\u001b[0m\n\u001b[0;32m----> 1\u001b[0;31m \u001b[0;32mimport\u001b[0m \u001b[0mpdbfixer\u001b[0m\u001b[0;34m\u001b[0m\u001b[0;34m\u001b[0m\u001b[0m\n\u001b[0m\u001b[1;32m      2\u001b[0m \u001b[0;32mimport\u001b[0m \u001b[0mopenmm\u001b[0m\u001b[0;34m\u001b[0m\u001b[0;34m\u001b[0m\u001b[0m\n\u001b[1;32m      3\u001b[0m \u001b[0;34m\u001b[0m\u001b[0m\n",
            "\u001b[0;31mModuleNotFoundError\u001b[0m: No module named 'pdbfixer'",
            "\nDuring handling of the above exception, another exception occurred:\n",
            "\u001b[0;31mNameError\u001b[0m                                 Traceback (most recent call last)",
            "\u001b[0;32m<ipython-input-3-2d0e067d8df6>\u001b[0m in \u001b[0;36m<cell line: 0>\u001b[0;34m()\u001b[0m\n\u001b[1;32m     11\u001b[0m \u001b[0;34m\u001b[0m\u001b[0m\n\u001b[1;32m     12\u001b[0m \u001b[0mpred_pdb\u001b[0m \u001b[0;34m=\u001b[0m \u001b[0mos\u001b[0m\u001b[0;34m.\u001b[0m\u001b[0mpath\u001b[0m\u001b[0;34m.\u001b[0m\u001b[0mjoin\u001b[0m\u001b[0;34m(\u001b[0m\u001b[0mpred_dir\u001b[0m\u001b[0;34m,\u001b[0m \u001b[0;34mf\"{name}.pdb\"\u001b[0m\u001b[0;34m)\u001b[0m\u001b[0;34m\u001b[0m\u001b[0;34m\u001b[0m\u001b[0m\n\u001b[0;32m---> 13\u001b[0;31m pred = igfold.fold(\n\u001b[0m\u001b[1;32m     14\u001b[0m     \u001b[0mpred_pdb\u001b[0m\u001b[0;34m,\u001b[0m\u001b[0;34m\u001b[0m\u001b[0;34m\u001b[0m\u001b[0m\n\u001b[1;32m     15\u001b[0m     \u001b[0msequences\u001b[0m\u001b[0;34m=\u001b[0m\u001b[0msequences\u001b[0m\u001b[0;34m,\u001b[0m\u001b[0;34m\u001b[0m\u001b[0;34m\u001b[0m\u001b[0m\n",
            "\u001b[0;32m/usr/local/lib/python3.11/dist-packages/igfold/IgFoldRunner.py\u001b[0m in \u001b[0;36mfold\u001b[0;34m(self, pdb_file, fasta_file, sequences, template_pdb, ignore_cdrs, ignore_chain, skip_pdb, do_refine, use_openmm, do_renum, truncate_sequences)\u001b[0m\n\u001b[1;32m    104\u001b[0m         \"\"\"\n\u001b[1;32m    105\u001b[0m         \u001b[0mstart_time\u001b[0m \u001b[0;34m=\u001b[0m \u001b[0mtime\u001b[0m\u001b[0;34m(\u001b[0m\u001b[0;34m)\u001b[0m\u001b[0;34m\u001b[0m\u001b[0;34m\u001b[0m\u001b[0m\n\u001b[0;32m--> 106\u001b[0;31m         model_out = fold(\n\u001b[0m\u001b[1;32m    107\u001b[0m             \u001b[0mself\u001b[0m\u001b[0;34m.\u001b[0m\u001b[0mantiberty\u001b[0m\u001b[0;34m,\u001b[0m\u001b[0;34m\u001b[0m\u001b[0;34m\u001b[0m\u001b[0m\n\u001b[1;32m    108\u001b[0m             \u001b[0mself\u001b[0m\u001b[0;34m.\u001b[0m\u001b[0mmodels\u001b[0m\u001b[0;34m,\u001b[0m\u001b[0;34m\u001b[0m\u001b[0;34m\u001b[0m\u001b[0m\n",
            "\u001b[0;32m/usr/local/lib/python3.11/dist-packages/igfold/utils/folding.py\u001b[0m in \u001b[0;36mfold\u001b[0;34m(antiberty, models, pdb_file, fasta_file, sequences, template_pdb, ignore_cdrs, ignore_chain, skip_pdb, do_refine, use_openmm, do_renum, truncate_sequences)\u001b[0m\n\u001b[1;32m    219\u001b[0m     \u001b[0mbest_model_i\u001b[0m \u001b[0;34m=\u001b[0m \u001b[0mscores\u001b[0m\u001b[0;34m.\u001b[0m\u001b[0mindex\u001b[0m\u001b[0;34m(\u001b[0m\u001b[0mmin\u001b[0m\u001b[0;34m(\u001b[0m\u001b[0mscores\u001b[0m\u001b[0;34m)\u001b[0m\u001b[0;34m)\u001b[0m\u001b[0;34m\u001b[0m\u001b[0;34m\u001b[0m\u001b[0m\n\u001b[1;32m    220\u001b[0m     \u001b[0mmodel_out\u001b[0m \u001b[0;34m=\u001b[0m \u001b[0mmodel_outs\u001b[0m\u001b[0;34m[\u001b[0m\u001b[0mbest_model_i\u001b[0m\u001b[0;34m]\u001b[0m\u001b[0;34m\u001b[0m\u001b[0;34m\u001b[0m\u001b[0m\n\u001b[0;32m--> 221\u001b[0;31m     process_prediction(\n\u001b[0m\u001b[1;32m    222\u001b[0m         \u001b[0mmodel_out\u001b[0m\u001b[0;34m,\u001b[0m\u001b[0;34m\u001b[0m\u001b[0;34m\u001b[0m\u001b[0m\n\u001b[1;32m    223\u001b[0m         \u001b[0mpdb_file\u001b[0m\u001b[0;34m,\u001b[0m\u001b[0;34m\u001b[0m\u001b[0;34m\u001b[0m\u001b[0m\n",
            "\u001b[0;32m/usr/local/lib/python3.11/dist-packages/igfold/utils/folding.py\u001b[0m in \u001b[0;36mprocess_prediction\u001b[0;34m(model_out, pdb_file, fasta_file, skip_pdb, do_refine, use_openmm, do_renum)\u001b[0m\n\u001b[1;32m    121\u001b[0m                 \u001b[0mrefine_input\u001b[0m \u001b[0;34m=\u001b[0m \u001b[0;34m[\u001b[0m\u001b[0mpdb_file\u001b[0m\u001b[0;34m]\u001b[0m\u001b[0;34m\u001b[0m\u001b[0;34m\u001b[0m\u001b[0m\n\u001b[1;32m    122\u001b[0m             \u001b[0;32mexcept\u001b[0m\u001b[0;34m:\u001b[0m\u001b[0;34m\u001b[0m\u001b[0;34m\u001b[0m\u001b[0m\n\u001b[0;32m--> 123\u001b[0;31m                 \u001b[0mexit\u001b[0m\u001b[0;34m(\u001b[0m\u001b[0;34m\"OpenMM not installed. Please install OpenMM to use refinement.\"\u001b[0m\u001b[0;34m)\u001b[0m\u001b[0;34m\u001b[0m\u001b[0;34m\u001b[0m\u001b[0m\n\u001b[0m\u001b[1;32m    124\u001b[0m         \u001b[0;32melse\u001b[0m\u001b[0;34m:\u001b[0m\u001b[0;34m\u001b[0m\u001b[0;34m\u001b[0m\u001b[0m\n\u001b[1;32m    125\u001b[0m             \u001b[0;32mtry\u001b[0m\u001b[0;34m:\u001b[0m\u001b[0;34m\u001b[0m\u001b[0;34m\u001b[0m\u001b[0m\n",
            "\u001b[0;31mNameError\u001b[0m: name 'exit' is not defined"
          ]
        }
      ],
      "source": [
        "#@title Predict antibody structure with IgFold\n",
        "\n",
        "if f\"/usr/local/lib/python{python_version}/site-packages/\" not in sys.path:\n",
        "    sys.path.insert(0, f\"/usr/local/lib/python{python_version}/site-packages/\")\n",
        "\n",
        "from igfold.utils.visualize import *\n",
        "from igfold import IgFoldRunner\n",
        "\n",
        "num_models = 1 if single_model else 4\n",
        "igfold = IgFoldRunner(num_models=num_models)\n",
        "\n",
        "pred_pdb = os.path.join(pred_dir, f\"{name}.pdb\")\n",
        "pred = igfold.fold(\n",
        "    pred_pdb,\n",
        "    sequences=sequences,\n",
        "    do_refine=do_refine,\n",
        "    use_openmm=True,\n",
        "    do_renum=do_renum,\n",
        ")\n",
        "show_pdb(pred_pdb, len(sequences), bb_sticks=False, sc_sticks=True, color=\"rainbow\")"
      ]
    },
    {
      "cell_type": "code",
      "execution_count": null,
      "metadata": {
        "cellView": "form",
        "id": "xFOTYxsP9Cz1"
      },
      "outputs": [],
      "source": [
        "#@title Plot per-residue predicted RMSD\n",
        "\n",
        "prmsd_fig_file = os.path.join(pred_dir, f\"{name}_prmsd.png\")\n",
        "plot_prmsd(sequences, pred.prmsd.cpu(), prmsd_fig_file, shade_cdr=do_renum, pdb_file=pred_pdb)"
      ]
    },
    {
      "cell_type": "code",
      "execution_count": null,
      "metadata": {
        "cellView": "form",
        "id": "ajyElWbZ9EFF"
      },
      "outputs": [],
      "source": [
        "#@title Show predicted structure with predicted RMSD\n",
        "\n",
        "#@markdown Structure is colored from low (blue) to high (red) pRMSD.\n",
        "\n",
        "show_pdb(pred_pdb, len(sequences), bb_sticks=False, sc_sticks=True, color=\"b\")"
      ]
    },
    {
      "cell_type": "code",
      "execution_count": null,
      "metadata": {
        "cellView": "form",
        "id": "gZBzjpMdJ77q"
      },
      "outputs": [],
      "source": [
        "#@title Download results\n",
        "\n",
        "#@markdown Download zip file containing structure prediction and annotation results. If download fails, results are also accessible from file explorer on the left panel of the notebook.\n",
        "\n",
        "from google.colab import files\n",
        "import locale\n",
        "locale.getpreferredencoding = lambda: \"UTF-8\"\n",
        "\n",
        "!zip -FSr $name\".result.zip\" $pred_dir/ &> /dev/null\n",
        "files.download(f\"{name}.result.zip\")"
      ]
    }
  ],
  "metadata": {
    "colab": {
      "name": "IgFold.ipynb",
      "provenance": []
    },
    "kernelspec": {
      "display_name": "Python 3.9.12 ('igfold_public')",
      "language": "python",
      "name": "python3"
    },
    "language_info": {
      "name": "python",
      "version": "3.9.12"
    },
    "vscode": {
      "interpreter": {
        "hash": "84181e5f1827f203c248bfcd3a60e7e3a4ffc08f0a7dd8a443bd855d4ab14b5d"
      }
    }
  },
  "nbformat": 4,
  "nbformat_minor": 0
}